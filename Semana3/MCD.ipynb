{
 "cells": [
  {
   "cell_type": "markdown",
   "id": "4b3dc7cf-8e76-4527-8096-1f118ffda9ef",
   "metadata": {},
   "source": [
    "### Semana 4: Sistema de ecuaciones lineales"
   ]
  },
  {
   "cell_type": "code",
   "execution_count": 92,
   "id": "a38099fe",
   "metadata": {},
   "outputs": [],
   "source": [
    "import pandas as pd\n",
    "import numpy as np\n",
    "from IPython.display import Image"
   ]
  },
  {
   "cell_type": "markdown",
   "id": "53c3324c",
   "metadata": {},
   "source": [
    "1. El sistema de ecuaciones para hallar los valores de los parámetros es el que se muestra"
   ]
  },
  {
   "cell_type": "code",
   "execution_count": 93,
   "id": "b0ba2625",
   "metadata": {},
   "outputs": [
    {
     "data": {
      "image/png": "[encoded data removed]",
      "text/plain": [
       "<IPython.core.display.Image object>"
      ]
     },
     "execution_count": 93,
     "metadata": {},
     "output_type": "execute_result"
    }
   ],
   "source": [
    "Image('ecuacion.png')"
   ]
  },
  {
   "cell_type": "markdown",
   "id": "3d2b556a",
   "metadata": {},
   "source": [
    "\\begin{equation}\n",
    "\\begin{aligned}\n",
    "\\sum_{i=1}^n {yi} &= n a + b_1 \\sum_{j=1}^n x_{1i} + b_2 \\sum_{j=1}^n x_{2i}\\\\\n",
    "\\sum_{i=1}^n x_{1i} y_i &= a \\sum_{i=1}^n x_{1i} + b_1 \\sum_{i=1}^n x_{1i}^2 + b_2 \\sum_{i=1}^n x_{1i} x_{2i} \\\\\n",
    "\\sum_{i=1}^n x_{2i} y_i &= a \\sum_{i=1}^n x_{2i} + b_1 \\sum_{i=1}^n x_{1i}x_{2i} + b_2 \\sum_{i=1}^n x_{2i}^2\n",
    "\\end{aligned}\n",
    "\\end{equation}\n"
   ]
  },
  {
   "cell_type": "markdown",
   "id": "b9da3f9d",
   "metadata": {},
   "source": [
    "2. Lea la base de datos"
   ]
  },
  {
   "cell_type": "code",
   "execution_count": 94,
   "id": "9110d37e",
   "metadata": {},
   "outputs": [
    {
     "data": {
      "text/html": [
       "<div>\n",
       "<style scoped>\n",
       "    .dataframe tbody tr th:only-of-type {\n",
       "        vertical-align: middle;\n",
       "    }\n",
       "\n",
       "    .dataframe tbody tr th {\n",
       "        vertical-align: top;\n",
       "    }\n",
       "\n",
       "    .dataframe thead th {\n",
       "        text-align: right;\n",
       "    }\n",
       "</style>\n",
       "<table border=\"1\" class=\"dataframe\">\n",
       "  <thead>\n",
       "    <tr style=\"text-align: right;\">\n",
       "      <th></th>\n",
       "      <th>TV</th>\n",
       "      <th>Radio</th>\n",
       "      <th>Newspaper</th>\n",
       "      <th>Sales</th>\n",
       "    </tr>\n",
       "  </thead>\n",
       "  <tbody>\n",
       "    <tr>\n",
       "      <th>0</th>\n",
       "      <td>230.1</td>\n",
       "      <td>37.8</td>\n",
       "      <td>69.2</td>\n",
       "      <td>22.1</td>\n",
       "    </tr>\n",
       "    <tr>\n",
       "      <th>1</th>\n",
       "      <td>44.5</td>\n",
       "      <td>39.3</td>\n",
       "      <td>45.1</td>\n",
       "      <td>10.4</td>\n",
       "    </tr>\n",
       "    <tr>\n",
       "      <th>2</th>\n",
       "      <td>17.2</td>\n",
       "      <td>45.9</td>\n",
       "      <td>69.3</td>\n",
       "      <td>9.3</td>\n",
       "    </tr>\n",
       "    <tr>\n",
       "      <th>3</th>\n",
       "      <td>151.5</td>\n",
       "      <td>41.3</td>\n",
       "      <td>58.5</td>\n",
       "      <td>18.5</td>\n",
       "    </tr>\n",
       "    <tr>\n",
       "      <th>4</th>\n",
       "      <td>180.8</td>\n",
       "      <td>10.8</td>\n",
       "      <td>58.4</td>\n",
       "      <td>12.9</td>\n",
       "    </tr>\n",
       "    <tr>\n",
       "      <th>...</th>\n",
       "      <td>...</td>\n",
       "      <td>...</td>\n",
       "      <td>...</td>\n",
       "      <td>...</td>\n",
       "    </tr>\n",
       "    <tr>\n",
       "      <th>195</th>\n",
       "      <td>38.2</td>\n",
       "      <td>3.7</td>\n",
       "      <td>13.8</td>\n",
       "      <td>7.6</td>\n",
       "    </tr>\n",
       "    <tr>\n",
       "      <th>196</th>\n",
       "      <td>94.2</td>\n",
       "      <td>4.9</td>\n",
       "      <td>8.1</td>\n",
       "      <td>9.7</td>\n",
       "    </tr>\n",
       "    <tr>\n",
       "      <th>197</th>\n",
       "      <td>177.0</td>\n",
       "      <td>9.3</td>\n",
       "      <td>6.4</td>\n",
       "      <td>12.8</td>\n",
       "    </tr>\n",
       "    <tr>\n",
       "      <th>198</th>\n",
       "      <td>283.6</td>\n",
       "      <td>42.0</td>\n",
       "      <td>66.2</td>\n",
       "      <td>25.5</td>\n",
       "    </tr>\n",
       "    <tr>\n",
       "      <th>199</th>\n",
       "      <td>232.1</td>\n",
       "      <td>8.6</td>\n",
       "      <td>8.7</td>\n",
       "      <td>13.4</td>\n",
       "    </tr>\n",
       "  </tbody>\n",
       "</table>\n",
       "<p>200 rows × 4 columns</p>\n",
       "</div>"
      ],
      "text/plain": [
       "        TV  Radio  Newspaper  Sales\n",
       "0    230.1   37.8       69.2   22.1\n",
       "1     44.5   39.3       45.1   10.4\n",
       "2     17.2   45.9       69.3    9.3\n",
       "3    151.5   41.3       58.5   18.5\n",
       "4    180.8   10.8       58.4   12.9\n",
       "..     ...    ...        ...    ...\n",
       "195   38.2    3.7       13.8    7.6\n",
       "196   94.2    4.9        8.1    9.7\n",
       "197  177.0    9.3        6.4   12.8\n",
       "198  283.6   42.0       66.2   25.5\n",
       "199  232.1    8.6        8.7   13.4\n",
       "\n",
       "[200 rows x 4 columns]"
      ]
     },
     "execution_count": 94,
     "metadata": {},
     "output_type": "execute_result"
    }
   ],
   "source": [
    "data = pd.read_csv(\"publicidad.csv\")\n",
    "data"
   ]
  },
  {
   "cell_type": "markdown",
   "id": "0cd0f32d",
   "metadata": {},
   "source": [
    "3. Elimine la variable ‘Newspaper’"
   ]
  },
  {
   "cell_type": "code",
   "execution_count": 95,
   "id": "1c9690a6",
   "metadata": {},
   "outputs": [
    {
     "data": {
      "text/html": [
       "<div>\n",
       "<style scoped>\n",
       "    .dataframe tbody tr th:only-of-type {\n",
       "        vertical-align: middle;\n",
       "    }\n",
       "\n",
       "    .dataframe tbody tr th {\n",
       "        vertical-align: top;\n",
       "    }\n",
       "\n",
       "    .dataframe thead th {\n",
       "        text-align: right;\n",
       "    }\n",
       "</style>\n",
       "<table border=\"1\" class=\"dataframe\">\n",
       "  <thead>\n",
       "    <tr style=\"text-align: right;\">\n",
       "      <th></th>\n",
       "      <th>TV</th>\n",
       "      <th>Radio</th>\n",
       "      <th>Sales</th>\n",
       "    </tr>\n",
       "  </thead>\n",
       "  <tbody>\n",
       "    <tr>\n",
       "      <th>0</th>\n",
       "      <td>230.1</td>\n",
       "      <td>37.8</td>\n",
       "      <td>22.1</td>\n",
       "    </tr>\n",
       "    <tr>\n",
       "      <th>1</th>\n",
       "      <td>44.5</td>\n",
       "      <td>39.3</td>\n",
       "      <td>10.4</td>\n",
       "    </tr>\n",
       "    <tr>\n",
       "      <th>2</th>\n",
       "      <td>17.2</td>\n",
       "      <td>45.9</td>\n",
       "      <td>9.3</td>\n",
       "    </tr>\n",
       "    <tr>\n",
       "      <th>3</th>\n",
       "      <td>151.5</td>\n",
       "      <td>41.3</td>\n",
       "      <td>18.5</td>\n",
       "    </tr>\n",
       "    <tr>\n",
       "      <th>4</th>\n",
       "      <td>180.8</td>\n",
       "      <td>10.8</td>\n",
       "      <td>12.9</td>\n",
       "    </tr>\n",
       "    <tr>\n",
       "      <th>...</th>\n",
       "      <td>...</td>\n",
       "      <td>...</td>\n",
       "      <td>...</td>\n",
       "    </tr>\n",
       "    <tr>\n",
       "      <th>195</th>\n",
       "      <td>38.2</td>\n",
       "      <td>3.7</td>\n",
       "      <td>7.6</td>\n",
       "    </tr>\n",
       "    <tr>\n",
       "      <th>196</th>\n",
       "      <td>94.2</td>\n",
       "      <td>4.9</td>\n",
       "      <td>9.7</td>\n",
       "    </tr>\n",
       "    <tr>\n",
       "      <th>197</th>\n",
       "      <td>177.0</td>\n",
       "      <td>9.3</td>\n",
       "      <td>12.8</td>\n",
       "    </tr>\n",
       "    <tr>\n",
       "      <th>198</th>\n",
       "      <td>283.6</td>\n",
       "      <td>42.0</td>\n",
       "      <td>25.5</td>\n",
       "    </tr>\n",
       "    <tr>\n",
       "      <th>199</th>\n",
       "      <td>232.1</td>\n",
       "      <td>8.6</td>\n",
       "      <td>13.4</td>\n",
       "    </tr>\n",
       "  </tbody>\n",
       "</table>\n",
       "<p>200 rows × 3 columns</p>\n",
       "</div>"
      ],
      "text/plain": [
       "        TV  Radio  Sales\n",
       "0    230.1   37.8   22.1\n",
       "1     44.5   39.3   10.4\n",
       "2     17.2   45.9    9.3\n",
       "3    151.5   41.3   18.5\n",
       "4    180.8   10.8   12.9\n",
       "..     ...    ...    ...\n",
       "195   38.2    3.7    7.6\n",
       "196   94.2    4.9    9.7\n",
       "197  177.0    9.3   12.8\n",
       "198  283.6   42.0   25.5\n",
       "199  232.1    8.6   13.4\n",
       "\n",
       "[200 rows x 3 columns]"
      ]
     },
     "execution_count": 95,
     "metadata": {},
     "output_type": "execute_result"
    }
   ],
   "source": [
    "data = data.drop(['Newspaper'], axis=1)\n",
    "data"
   ]
  },
  {
   "cell_type": "markdown",
   "id": "736cacbf",
   "metadata": {},
   "source": [
    "\\begin{equation}\n",
    "\\begin{aligned}\n",
    "\\mathbf{A} \\mathbf{x} &= \\mathbf{b} \\\\\n",
    "\\begin{pmatrix}\n",
    "n & \\sum_{j=1}^n x_{1i} & \\sum_{j=1}^n x_{2i} \\\\[10pt]\n",
    "\\sum_{i=1}^n x_{1i} & \\sum_{i=1}^n x_{1i}^2 & \\sum_{i=1}^n x_{1i} x_{2i} \\\\[10pt]\n",
    "\\sum_{i=1}^n x_{2i} & \\sum_{i=1}^n x_{1i}x_{2i} & \\sum_{i=1}^n x_{2i}^2 \\\\[10pt]\n",
    "\\end{pmatrix}\n",
    "\\begin{pmatrix}\n",
    "a \\\\[10pt]\n",
    "b_1 \\\\[10pt]\n",
    "b_2 \\\\[10pt]\n",
    "\\end{pmatrix} &=\n",
    "\\begin{pmatrix}\n",
    "\\sum_{i=1}^n {yi} \\\\[10pt]\n",
    "\\sum_{i=1}^n x_{1i} y_i \\\\[10pt]\n",
    "\\sum_{i=1}^n x_{2i} y_i \\\\[10pt]\n",
    "\\end{pmatrix}\n",
    "\\end{aligned}\n",
    "\\end{equation}\n",
    "\n",
    "\\begin{equation} \n",
    "\\mathbf{A} = \n",
    "\\begin{pmatrix}\n",
    "200 & 29408.5 & 4652.8 \\\\[10pt]\n",
    "29408.5 & 152108 & 698062 \\\\[10pt]\n",
    "4652.8 & 698062 & 152108 \\\\[10pt]\n",
    "\\end{pmatrix}\n",
    "\\mathbf{b} = \n",
    "\\begin{pmatrix}\n",
    "2804.5 \\\\[10pt]\n",
    "482108 \\\\[10pt]\n",
    "74126.4 \\\\[10pt]\n",
    "\\end{pmatrix}\n",
    "\\end{equation}"
   ]
  },
  {
   "cell_type": "markdown",
   "id": "04b7a96a",
   "metadata": {},
   "source": [
    "4.  Calcule todas las sumatorias del sistema de ecuaciones"
   ]
  },
  {
   "cell_type": "code",
   "execution_count": 96,
   "id": "c91e59ad",
   "metadata": {},
   "outputs": [
    {
     "name": "stdout",
     "output_type": "stream",
     "text": [
      " COEFICIENTES Y TERMINOS INDP.   | VALORES\n",
      "---------------------------------+-------------\n",
      " n                               | 200\n",
      " sum_x1                          | 29408.5\n",
      " sum_x2                          | 4652.8\n",
      " sum_y                           | 2804.5\n",
      " sum_x1_cuadrado                 | 5.79112e+06\n",
      " sum_x1x2                        | 698062\n",
      " sum_x1y                         | 482108\n",
      " sum_x2_cuadrado                 | 152108\n",
      " sum_x2y                         | 74126.4\n"
     ]
    }
   ],
   "source": [
    "n = len(data)\n",
    "sum_x1 = sum(data['TV'])\n",
    "sum_x2 = sum(data['Radio'])\n",
    "sum_y = sum(data['Sales'])\n",
    "sum_x1_cuadrado = sum(data['TV'] ** 2)\n",
    "sum_x1x2 = sum(data['TV'] * data['Radio'])\n",
    "sum_x1y = sum(data['TV'] * data['Sales'])\n",
    "sum_x2_cuadrado = sum(data['Radio'] ** 2)\n",
    "sum_x2y = sum(data['Radio'] * data['Sales'])\n",
    "\n",
    "from tabulate import tabulate\n",
    "iterables = [\"n\",\"sum_x1\", \"sum_x2\", \"sum_y\", \"sum_x1_cuadrado\", \"sum_x1x2\", \"sum_x1y\", \"sum_x2_cuadrado\", \"sum_x2y\"]\n",
    "iteradores = [n, sum_x1, sum_x2, sum_y, sum_x1_cuadrado, sum_x1x2, sum_x1y, sum_x2_cuadrado, sum_x2y]\n",
    "\n",
    "print(tabulate({\"COEFICIENTES\": iterables, \"VALORES\": iteradores}, headers=[\"COEFICIENTES Y TERMINOS INDP.\", \"VALORES\"], tablefmt=\"presto\", numalign=\"left\"))\n"
   ]
  },
  {
   "cell_type": "markdown",
   "id": "9f0ddb82",
   "metadata": {},
   "source": [
    "5. Imprima la matriz de coeficientes **A** y la matriz de términos independientes **b**"
   ]
  },
  {
   "cell_type": "markdown",
   "id": "5c25373e",
   "metadata": {},
   "source": [
    "\\begin{equation} \n",
    "\\mathbf{b} = \n",
    "\\begin{pmatrix}\n",
    "2804.5 \\\\[10pt]\n",
    "482108 \\\\[10pt]\n",
    "74126.4 \\\\[10pt]\n",
    "\\end{pmatrix}\n",
    "\n",
    "\\mathbf{A} = \n",
    "\\begin{pmatrix}\n",
    "200 & 29408.5 & 4652.8 \\\\[10pt]\n",
    "29408.5 & 152108 & 698062 \\\\[10pt]\n",
    "4652.8 & 698062 & 152108 \\\\[10pt]\n",
    "\\end{pmatrix}\n",
    "\\end{equation}\n"
   ]
  },
  {
   "cell_type": "code",
   "execution_count": 99,
   "id": "6dffaaf5",
   "metadata": {},
   "outputs": [
    {
     "name": "stdout",
     "output_type": "stream",
     "text": [
      "\n",
      "Matriz de coeficientes: [[2.00000000e+02 2.94085000e+04 4.65280000e+03]\n",
      " [2.94085000e+04 5.79111839e+06 6.98061980e+05]\n",
      " [4.65280000e+03 6.98061980e+05 1.52107860e+05]]\n",
      "\n",
      "Matriz independiente: [  2804.5  482108.34  74126.39]\n"
     ]
    }
   ],
   "source": [
    "A = np.array([(n, sum_x1, sum_x2),(sum_x1, sum_x1_cuadrado, sum_x1x2),(sum_x2, sum_x1x2, sum_x2_cuadrado)])\n",
    "b = np.array([(sum_y),(sum_x1y), (sum_x2y)])\n",
    "print('\\nMatriz de coeficientes: {}'.format(A))\n",
    "print('\\nMatriz independiente: {}'.format(b))\n"
   ]
  },
  {
   "cell_type": "markdown",
   "id": "381e58b7",
   "metadata": {},
   "source": [
    "6. Confirmamos la existencia de la inversa de la matriz A calculando su determinante"
   ]
  },
  {
   "cell_type": "code",
   "execution_count": 100,
   "id": "a7a62b63",
   "metadata": {},
   "outputs": [
    {
     "data": {
      "text/plain": [
       "12829782120021.764"
      ]
     },
     "execution_count": 100,
     "metadata": {},
     "output_type": "execute_result"
    }
   ],
   "source": [
    "detA = np.linalg.det(A)\n",
    "detA"
   ]
  },
  {
   "cell_type": "markdown",
   "id": "ba631b23",
   "metadata": {},
   "source": [
    "7. Aplique  el  método  de  la  inversa  para  resolver  dicho  sistema"
   ]
  },
  {
   "cell_type": "code",
   "execution_count": 101,
   "id": "aa916e9e",
   "metadata": {},
   "outputs": [
    {
     "data": {
      "text/plain": [
       "array([2.92109991, 0.04575482, 0.18799423])"
      ]
     },
     "execution_count": 101,
     "metadata": {},
     "output_type": "execute_result"
    }
   ],
   "source": [
    "invA = np.linalg.inv(A)\n",
    "solucion = np.dot(invA, b.T)\n",
    "solucion"
   ]
  },
  {
   "cell_type": "markdown",
   "id": "3a5aeff2",
   "metadata": {},
   "source": [
    "\\begin{equation}\n",
    "\\begin{aligned}\n",
    "\\mathbf{y} &= \\mathbf{2.92109991} - \\mathbf{0.04575482}\\mathbf{x_{1}} + \\mathbf{0.18799423}\\mathbf{x_{2}}\n",
    "\\end{aligned}\n",
    "\\end{equation}\n"
   ]
  },
  {
   "cell_type": "markdown",
   "id": "c807b7e2",
   "metadata": {},
   "source": [
    "8. Verifique que se obtienen los mismos  resultados  al  utilizar  la función ```LinearRegressión``` de la librería ```sklearn```."
   ]
  },
  {
   "cell_type": "code",
   "execution_count": 79,
   "id": "cdb9ffcd",
   "metadata": {},
   "outputs": [
    {
     "data": {
      "text/html": [
       "<style>#sk-container-id-5 {color: black;background-color: white;}#sk-container-id-5 pre{padding: 0;}#sk-container-id-5 div.sk-toggleable {background-color: white;}#sk-container-id-5 label.sk-toggleable__label {cursor: pointer;display: block;width: 100%;margin-bottom: 0;padding: 0.3em;box-sizing: border-box;text-align: center;}#sk-container-id-5 label.sk-toggleable__label-arrow:before {content: \"▸\";float: left;margin-right: 0.25em;color: #696969;}#sk-container-id-5 label.sk-toggleable__label-arrow:hover:before {color: black;}#sk-container-id-5 div.sk-estimator:hover label.sk-toggleable__label-arrow:before {color: black;}#sk-container-id-5 div.sk-toggleable__content {max-height: 0;max-width: 0;overflow: hidden;text-align: left;background-color: #f0f8ff;}#sk-container-id-5 div.sk-toggleable__content pre {margin: 0.2em;color: black;border-radius: 0.25em;background-color: #f0f8ff;}#sk-container-id-5 input.sk-toggleable__control:checked~div.sk-toggleable__content {max-height: 200px;max-width: 100%;overflow: auto;}#sk-container-id-5 input.sk-toggleable__control:checked~label.sk-toggleable__label-arrow:before {content: \"▾\";}#sk-container-id-5 div.sk-estimator input.sk-toggleable__control:checked~label.sk-toggleable__label {background-color: #d4ebff;}#sk-container-id-5 div.sk-label input.sk-toggleable__control:checked~label.sk-toggleable__label {background-color: #d4ebff;}#sk-container-id-5 input.sk-hidden--visually {border: 0;clip: rect(1px 1px 1px 1px);clip: rect(1px, 1px, 1px, 1px);height: 1px;margin: -1px;overflow: hidden;padding: 0;position: absolute;width: 1px;}#sk-container-id-5 div.sk-estimator {font-family: monospace;background-color: #f0f8ff;border: 1px dotted black;border-radius: 0.25em;box-sizing: border-box;margin-bottom: 0.5em;}#sk-container-id-5 div.sk-estimator:hover {background-color: #d4ebff;}#sk-container-id-5 div.sk-parallel-item::after {content: \"\";width: 100%;border-bottom: 1px solid gray;flex-grow: 1;}#sk-container-id-5 div.sk-label:hover label.sk-toggleable__label {background-color: #d4ebff;}#sk-container-id-5 div.sk-serial::before {content: \"\";position: absolute;border-left: 1px solid gray;box-sizing: border-box;top: 0;bottom: 0;left: 50%;z-index: 0;}#sk-container-id-5 div.sk-serial {display: flex;flex-direction: column;align-items: center;background-color: white;padding-right: 0.2em;padding-left: 0.2em;position: relative;}#sk-container-id-5 div.sk-item {position: relative;z-index: 1;}#sk-container-id-5 div.sk-parallel {display: flex;align-items: stretch;justify-content: center;background-color: white;position: relative;}#sk-container-id-5 div.sk-item::before, #sk-container-id-5 div.sk-parallel-item::before {content: \"\";position: absolute;border-left: 1px solid gray;box-sizing: border-box;top: 0;bottom: 0;left: 50%;z-index: -1;}#sk-container-id-5 div.sk-parallel-item {display: flex;flex-direction: column;z-index: 1;position: relative;background-color: white;}#sk-container-id-5 div.sk-parallel-item:first-child::after {align-self: flex-end;width: 50%;}#sk-container-id-5 div.sk-parallel-item:last-child::after {align-self: flex-start;width: 50%;}#sk-container-id-5 div.sk-parallel-item:only-child::after {width: 0;}#sk-container-id-5 div.sk-dashed-wrapped {border: 1px dashed gray;margin: 0 0.4em 0.5em 0.4em;box-sizing: border-box;padding-bottom: 0.4em;background-color: white;}#sk-container-id-5 div.sk-label label {font-family: monospace;font-weight: bold;display: inline-block;line-height: 1.2em;}#sk-container-id-5 div.sk-label-container {text-align: center;}#sk-container-id-5 div.sk-container {/* jupyter's `normalize.less` sets `[hidden] { display: none; }` but bootstrap.min.css set `[hidden] { display: none !important; }` so we also need the `!important` here to be able to override the default hidden behavior on the sphinx rendered scikit-learn.org. See: https://github.com/scikit-learn/scikit-learn/issues/21755 */display: inline-block !important;position: relative;}#sk-container-id-5 div.sk-text-repr-fallback {display: none;}</style><div id=\"sk-container-id-5\" class=\"sk-top-container\"><div class=\"sk-text-repr-fallback\"><pre>LinearRegression()</pre><b>In a Jupyter environment, please rerun this cell to show the HTML representation or trust the notebook. <br />On GitHub, the HTML representation is unable to render, please try loading this page with nbviewer.org.</b></div><div class=\"sk-container\" hidden><div class=\"sk-item\"><div class=\"sk-estimator sk-toggleable\"><input class=\"sk-toggleable__control sk-hidden--visually\" id=\"sk-estimator-id-5\" type=\"checkbox\" checked><label for=\"sk-estimator-id-5\" class=\"sk-toggleable__label sk-toggleable__label-arrow\">LinearRegression</label><div class=\"sk-toggleable__content\"><pre>LinearRegression()</pre></div></div></div></div></div>"
      ],
      "text/plain": [
       "LinearRegression()"
      ]
     },
     "execution_count": 79,
     "metadata": {},
     "output_type": "execute_result"
    }
   ],
   "source": [
    "from sklearn.linear_model import LinearRegression\n",
    "\n",
    "X = data[['TV', 'Radio']]\n",
    "Y = data['Sales']\n",
    "rls = LinearRegression()\n",
    "rls.fit(X,Y)"
   ]
  },
  {
   "cell_type": "code",
   "execution_count": 114,
   "id": "de505371",
   "metadata": {},
   "outputs": [
    {
     "data": {
      "text/html": [
       "<div>\n",
       "<style scoped>\n",
       "    .dataframe tbody tr th:only-of-type {\n",
       "        vertical-align: middle;\n",
       "    }\n",
       "\n",
       "    .dataframe tbody tr th {\n",
       "        vertical-align: top;\n",
       "    }\n",
       "\n",
       "    .dataframe thead th {\n",
       "        text-align: right;\n",
       "    }\n",
       "</style>\n",
       "<table border=\"1\" class=\"dataframe\">\n",
       "  <thead>\n",
       "    <tr style=\"text-align: right;\">\n",
       "      <th></th>\n",
       "      <th>Coeficientes</th>\n",
       "    </tr>\n",
       "  </thead>\n",
       "  <tbody>\n",
       "    <tr>\n",
       "      <th>Pendiente 1</th>\n",
       "      <td>0.045755</td>\n",
       "    </tr>\n",
       "    <tr>\n",
       "      <th>Pendiente 2</th>\n",
       "      <td>0.187994</td>\n",
       "    </tr>\n",
       "    <tr>\n",
       "      <th>Intercepto</th>\n",
       "      <td>2.921100</td>\n",
       "    </tr>\n",
       "  </tbody>\n",
       "</table>\n",
       "</div>"
      ],
      "text/plain": [
       "             Coeficientes\n",
       "Pendiente 1      0.045755\n",
       "Pendiente 2      0.187994\n",
       "Intercepto       2.921100"
      ]
     },
     "execution_count": 114,
     "metadata": {},
     "output_type": "execute_result"
    }
   ],
   "source": [
    "coef1 = pd.DataFrame(rls.coef_, [\"Pendiente 1\", \"Pendiente 2\"], columns=[\"Coeficientes\"])\n",
    "coef2 = pd.DataFrame(rls.intercept_,[\"Intercepto\"],columns=[\"Coeficientes\"])\n",
    "coeficientes = pd.concat([coef1, coef2], axis=0)\n",
    "coeficientes\n"
   ]
  }
 ],
 "metadata": {
  "kernelspec": {
   "display_name": "Python 3.10.6 64-bit",
   "language": "python",
   "name": "python3"
  },
  "language_info": {
   "codemirror_mode": {
    "name": "ipython",
    "version": 3
   },
   "file_extension": ".py",
   "mimetype": "text/x-python",
   "name": "python",
   "nbconvert_exporter": "python",
   "pygments_lexer": "ipython3",
   "version": "3.10.12"
  },
  "vscode": {
   "interpreter": {
    "hash": "916dbcbb3f70747c44a77c7bcd40155683ae19c65e1c03b4aa3499c5328201f1"
   }
  }
 },
 "nbformat": 4,
 "nbformat_minor": 5
}
