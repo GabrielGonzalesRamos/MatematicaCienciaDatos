{
 "cells": [
  {
   "cell_type": "markdown",
   "metadata": {},
   "source": [
    "## **ESPACIO VECTORIAL, SUBESPACIO VECTORIAL, INDEPENDENCIA LINEAL, BASE, DIMENCION**\n",
    "\n",
    "| **Integrantes:**                                |\n",
    "| :---                                                  |\n",
    "| José Gabriel Gonzales Ramos                                             |\n",
    "|Torres Vila Joel Jhonatan   |\n",
    "| Asto Mondragón Irwin Rufo |"
   ]
  },
  {
   "cell_type": "code",
   "execution_count": 1,
   "metadata": {},
   "outputs": [],
   "source": [
    "import pandas as pd"
   ]
  },
  {
   "cell_type": "code",
   "execution_count": 2,
   "metadata": {},
   "outputs": [],
   "source": [
    "data = pd.read_csv('comprar_alquilar.csv')"
   ]
  },
  {
   "cell_type": "code",
   "execution_count": 3,
   "metadata": {},
   "outputs": [
    {
     "data": {
      "text/html": [
       "<div>\n",
       "<style scoped>\n",
       "    .dataframe tbody tr th:only-of-type {\n",
       "        vertical-align: middle;\n",
       "    }\n",
       "\n",
       "    .dataframe tbody tr th {\n",
       "        vertical-align: top;\n",
       "    }\n",
       "\n",
       "    .dataframe thead th {\n",
       "        text-align: right;\n",
       "    }\n",
       "</style>\n",
       "<table border=\"1\" class=\"dataframe\">\n",
       "  <thead>\n",
       "    <tr style=\"text-align: right;\">\n",
       "      <th></th>\n",
       "      <th>ingresos</th>\n",
       "      <th>gastos_comunes</th>\n",
       "      <th>pago_coche</th>\n",
       "      <th>gastos_otros</th>\n",
       "      <th>ahorros</th>\n",
       "      <th>vivienda</th>\n",
       "      <th>estado_civil</th>\n",
       "      <th>hijos</th>\n",
       "      <th>trabajo</th>\n",
       "      <th>comprar</th>\n",
       "    </tr>\n",
       "  </thead>\n",
       "  <tbody>\n",
       "    <tr>\n",
       "      <th>0</th>\n",
       "      <td>6000</td>\n",
       "      <td>1000</td>\n",
       "      <td>0</td>\n",
       "      <td>600</td>\n",
       "      <td>50000</td>\n",
       "      <td>400000</td>\n",
       "      <td>0</td>\n",
       "      <td>2</td>\n",
       "      <td>2</td>\n",
       "      <td>1</td>\n",
       "    </tr>\n",
       "    <tr>\n",
       "      <th>1</th>\n",
       "      <td>6745</td>\n",
       "      <td>944</td>\n",
       "      <td>123</td>\n",
       "      <td>429</td>\n",
       "      <td>43240</td>\n",
       "      <td>636897</td>\n",
       "      <td>1</td>\n",
       "      <td>3</td>\n",
       "      <td>6</td>\n",
       "      <td>0</td>\n",
       "    </tr>\n",
       "    <tr>\n",
       "      <th>2</th>\n",
       "      <td>6455</td>\n",
       "      <td>1033</td>\n",
       "      <td>98</td>\n",
       "      <td>795</td>\n",
       "      <td>57463</td>\n",
       "      <td>321779</td>\n",
       "      <td>2</td>\n",
       "      <td>1</td>\n",
       "      <td>8</td>\n",
       "      <td>1</td>\n",
       "    </tr>\n",
       "    <tr>\n",
       "      <th>3</th>\n",
       "      <td>7098</td>\n",
       "      <td>1278</td>\n",
       "      <td>15</td>\n",
       "      <td>254</td>\n",
       "      <td>54506</td>\n",
       "      <td>660933</td>\n",
       "      <td>0</td>\n",
       "      <td>0</td>\n",
       "      <td>3</td>\n",
       "      <td>0</td>\n",
       "    </tr>\n",
       "    <tr>\n",
       "      <th>4</th>\n",
       "      <td>6167</td>\n",
       "      <td>863</td>\n",
       "      <td>223</td>\n",
       "      <td>520</td>\n",
       "      <td>41512</td>\n",
       "      <td>348932</td>\n",
       "      <td>0</td>\n",
       "      <td>0</td>\n",
       "      <td>3</td>\n",
       "      <td>1</td>\n",
       "    </tr>\n",
       "    <tr>\n",
       "      <th>...</th>\n",
       "      <td>...</td>\n",
       "      <td>...</td>\n",
       "      <td>...</td>\n",
       "      <td>...</td>\n",
       "      <td>...</td>\n",
       "      <td>...</td>\n",
       "      <td>...</td>\n",
       "      <td>...</td>\n",
       "      <td>...</td>\n",
       "      <td>...</td>\n",
       "    </tr>\n",
       "    <tr>\n",
       "      <th>197</th>\n",
       "      <td>3831</td>\n",
       "      <td>690</td>\n",
       "      <td>352</td>\n",
       "      <td>488</td>\n",
       "      <td>10723</td>\n",
       "      <td>363120</td>\n",
       "      <td>0</td>\n",
       "      <td>0</td>\n",
       "      <td>2</td>\n",
       "      <td>0</td>\n",
       "    </tr>\n",
       "    <tr>\n",
       "      <th>198</th>\n",
       "      <td>3961</td>\n",
       "      <td>1030</td>\n",
       "      <td>270</td>\n",
       "      <td>475</td>\n",
       "      <td>21880</td>\n",
       "      <td>280421</td>\n",
       "      <td>2</td>\n",
       "      <td>3</td>\n",
       "      <td>8</td>\n",
       "      <td>0</td>\n",
       "    </tr>\n",
       "    <tr>\n",
       "      <th>199</th>\n",
       "      <td>3184</td>\n",
       "      <td>955</td>\n",
       "      <td>276</td>\n",
       "      <td>684</td>\n",
       "      <td>35565</td>\n",
       "      <td>388025</td>\n",
       "      <td>1</td>\n",
       "      <td>3</td>\n",
       "      <td>8</td>\n",
       "      <td>0</td>\n",
       "    </tr>\n",
       "    <tr>\n",
       "      <th>200</th>\n",
       "      <td>3334</td>\n",
       "      <td>867</td>\n",
       "      <td>369</td>\n",
       "      <td>652</td>\n",
       "      <td>19985</td>\n",
       "      <td>376892</td>\n",
       "      <td>1</td>\n",
       "      <td>2</td>\n",
       "      <td>5</td>\n",
       "      <td>0</td>\n",
       "    </tr>\n",
       "    <tr>\n",
       "      <th>201</th>\n",
       "      <td>3988</td>\n",
       "      <td>1157</td>\n",
       "      <td>105</td>\n",
       "      <td>382</td>\n",
       "      <td>11980</td>\n",
       "      <td>257580</td>\n",
       "      <td>0</td>\n",
       "      <td>0</td>\n",
       "      <td>4</td>\n",
       "      <td>0</td>\n",
       "    </tr>\n",
       "  </tbody>\n",
       "</table>\n",
       "<p>202 rows × 10 columns</p>\n",
       "</div>"
      ],
      "text/plain": [
       "     ingresos  gastos_comunes  pago_coche  gastos_otros  ahorros  vivienda  \\\n",
       "0        6000            1000           0           600    50000    400000   \n",
       "1        6745             944         123           429    43240    636897   \n",
       "2        6455            1033          98           795    57463    321779   \n",
       "3        7098            1278          15           254    54506    660933   \n",
       "4        6167             863         223           520    41512    348932   \n",
       "..        ...             ...         ...           ...      ...       ...   \n",
       "197      3831             690         352           488    10723    363120   \n",
       "198      3961            1030         270           475    21880    280421   \n",
       "199      3184             955         276           684    35565    388025   \n",
       "200      3334             867         369           652    19985    376892   \n",
       "201      3988            1157         105           382    11980    257580   \n",
       "\n",
       "     estado_civil  hijos  trabajo  comprar  \n",
       "0               0      2        2        1  \n",
       "1               1      3        6        0  \n",
       "2               2      1        8        1  \n",
       "3               0      0        3        0  \n",
       "4               0      0        3        1  \n",
       "..            ...    ...      ...      ...  \n",
       "197             0      0        2        0  \n",
       "198             2      3        8        0  \n",
       "199             1      3        8        0  \n",
       "200             1      2        5        0  \n",
       "201             0      0        4        0  \n",
       "\n",
       "[202 rows x 10 columns]"
      ]
     },
     "execution_count": 3,
     "metadata": {},
     "output_type": "execute_result"
    }
   ],
   "source": [
    "data"
   ]
  },
  {
   "cell_type": "code",
   "execution_count": 4,
   "metadata": {},
   "outputs": [
    {
     "data": {
      "text/plain": [
       "ingresos          int64\n",
       "gastos_comunes    int64\n",
       "pago_coche        int64\n",
       "gastos_otros      int64\n",
       "ahorros           int64\n",
       "vivienda          int64\n",
       "estado_civil      int64\n",
       "hijos             int64\n",
       "trabajo           int64\n",
       "comprar           int64\n",
       "dtype: object"
      ]
     },
     "execution_count": 4,
     "metadata": {},
     "output_type": "execute_result"
    }
   ],
   "source": [
    "data.dtypes"
   ]
  },
  {
   "cell_type": "markdown",
   "metadata": {},
   "source": [
    "Validar si existen datos nulos "
   ]
  },
  {
   "cell_type": "code",
   "execution_count": 5,
   "metadata": {},
   "outputs": [
    {
     "data": {
      "text/plain": [
       "ingresos          0\n",
       "gastos_comunes    0\n",
       "pago_coche        0\n",
       "gastos_otros      0\n",
       "ahorros           0\n",
       "vivienda          0\n",
       "estado_civil      0\n",
       "hijos             0\n",
       "trabajo           0\n",
       "comprar           0\n",
       "dtype: int64"
      ]
     },
     "execution_count": 5,
     "metadata": {},
     "output_type": "execute_result"
    }
   ],
   "source": [
    "data.isnull().sum()"
   ]
  },
  {
   "cell_type": "markdown",
   "metadata": {},
   "source": [
    "Creando variables categóricas al campo ``estado civil``, ``trabajo``, ``comprar``"
   ]
  },
  {
   "cell_type": "code",
   "execution_count": 6,
   "metadata": {},
   "outputs": [],
   "source": [
    "data[\"estado_civil\"] = pd.Categorical(data['estado_civil'], categories=[0,2,1], ordered=True)\n",
    "data[\"trabajo\"] = pd.Categorical(data['trabajo'], categories=[0, 1, 2, 3, 4, 5, 6, 7, 8], ordered=True)\n",
    "data[\"comprar\"] = pd.Categorical(data['comprar'], categories=[0, 1], ordered=True)"
   ]
  },
  {
   "cell_type": "markdown",
   "metadata": {},
   "source": [
    "Validando de que las variables categóricas estén configuradas correctamente"
   ]
  },
  {
   "cell_type": "code",
   "execution_count": 7,
   "metadata": {},
   "outputs": [
    {
     "data": {
      "text/plain": [
       "ingresos             int64\n",
       "gastos_comunes       int64\n",
       "pago_coche           int64\n",
       "gastos_otros         int64\n",
       "ahorros              int64\n",
       "vivienda             int64\n",
       "estado_civil      category\n",
       "hijos                int64\n",
       "trabajo           category\n",
       "comprar           category\n",
       "dtype: object"
      ]
     },
     "execution_count": 7,
     "metadata": {},
     "output_type": "execute_result"
    }
   ],
   "source": [
    "data.dtypes"
   ]
  },
  {
   "cell_type": "markdown",
   "metadata": {},
   "source": [
    "``gastos = gastos_comunes + gastos_otros + pago_coche``\n",
    "\n",
    "``financiar = vivienda - ahorro``"
   ]
  },
  {
   "cell_type": "code",
   "execution_count": 8,
   "metadata": {},
   "outputs": [],
   "source": [
    "data['gasto'] = data['gastos_comunes'] + data['gastos_otros'] + data['pago_coche']\n",
    "data['financiar'] = data['vivienda'] - data['ahorros']"
   ]
  },
  {
   "cell_type": "markdown",
   "metadata": {},
   "source": [
    "Validando de que las nuevas tablas ``gasto`` y ``financiar`` se hayan creado"
   ]
  },
  {
   "cell_type": "code",
   "execution_count": 9,
   "metadata": {},
   "outputs": [
    {
     "data": {
      "text/plain": [
       "ingresos             int64\n",
       "gastos_comunes       int64\n",
       "pago_coche           int64\n",
       "gastos_otros         int64\n",
       "ahorros              int64\n",
       "vivienda             int64\n",
       "estado_civil      category\n",
       "hijos                int64\n",
       "trabajo           category\n",
       "comprar           category\n",
       "gasto                int64\n",
       "financiar            int64\n",
       "dtype: object"
      ]
     },
     "execution_count": 9,
     "metadata": {},
     "output_type": "execute_result"
    }
   ],
   "source": [
    "data.dtypes"
   ]
  },
  {
   "cell_type": "code",
   "execution_count": 48,
   "metadata": {},
   "outputs": [
    {
     "data": {
      "text/html": [
       "<div>\n",
       "<style scoped>\n",
       "    .dataframe tbody tr th:only-of-type {\n",
       "        vertical-align: middle;\n",
       "    }\n",
       "\n",
       "    .dataframe tbody tr th {\n",
       "        vertical-align: top;\n",
       "    }\n",
       "\n",
       "    .dataframe thead th {\n",
       "        text-align: right;\n",
       "    }\n",
       "</style>\n",
       "<table border=\"1\" class=\"dataframe\">\n",
       "  <thead>\n",
       "    <tr style=\"text-align: right;\">\n",
       "      <th></th>\n",
       "      <th>ingresos</th>\n",
       "      <th>gastos_comunes</th>\n",
       "      <th>pago_coche</th>\n",
       "      <th>gastos_otros</th>\n",
       "      <th>ahorros</th>\n",
       "      <th>vivienda</th>\n",
       "      <th>estado_civil</th>\n",
       "      <th>hijos</th>\n",
       "      <th>trabajo</th>\n",
       "      <th>comprar</th>\n",
       "      <th>gasto</th>\n",
       "      <th>financiar</th>\n",
       "    </tr>\n",
       "  </thead>\n",
       "  <tbody>\n",
       "    <tr>\n",
       "      <th>0</th>\n",
       "      <td>6000</td>\n",
       "      <td>1000</td>\n",
       "      <td>0</td>\n",
       "      <td>600</td>\n",
       "      <td>50000</td>\n",
       "      <td>400000</td>\n",
       "      <td>0</td>\n",
       "      <td>2</td>\n",
       "      <td>2</td>\n",
       "      <td>1</td>\n",
       "      <td>1600</td>\n",
       "      <td>350000</td>\n",
       "    </tr>\n",
       "    <tr>\n",
       "      <th>1</th>\n",
       "      <td>6745</td>\n",
       "      <td>944</td>\n",
       "      <td>123</td>\n",
       "      <td>429</td>\n",
       "      <td>43240</td>\n",
       "      <td>636897</td>\n",
       "      <td>1</td>\n",
       "      <td>3</td>\n",
       "      <td>6</td>\n",
       "      <td>0</td>\n",
       "      <td>1496</td>\n",
       "      <td>593657</td>\n",
       "    </tr>\n",
       "    <tr>\n",
       "      <th>2</th>\n",
       "      <td>6455</td>\n",
       "      <td>1033</td>\n",
       "      <td>98</td>\n",
       "      <td>795</td>\n",
       "      <td>57463</td>\n",
       "      <td>321779</td>\n",
       "      <td>2</td>\n",
       "      <td>1</td>\n",
       "      <td>8</td>\n",
       "      <td>1</td>\n",
       "      <td>1926</td>\n",
       "      <td>264316</td>\n",
       "    </tr>\n",
       "    <tr>\n",
       "      <th>3</th>\n",
       "      <td>7098</td>\n",
       "      <td>1278</td>\n",
       "      <td>15</td>\n",
       "      <td>254</td>\n",
       "      <td>54506</td>\n",
       "      <td>660933</td>\n",
       "      <td>0</td>\n",
       "      <td>0</td>\n",
       "      <td>3</td>\n",
       "      <td>0</td>\n",
       "      <td>1547</td>\n",
       "      <td>606427</td>\n",
       "    </tr>\n",
       "    <tr>\n",
       "      <th>4</th>\n",
       "      <td>6167</td>\n",
       "      <td>863</td>\n",
       "      <td>223</td>\n",
       "      <td>520</td>\n",
       "      <td>41512</td>\n",
       "      <td>348932</td>\n",
       "      <td>0</td>\n",
       "      <td>0</td>\n",
       "      <td>3</td>\n",
       "      <td>1</td>\n",
       "      <td>1606</td>\n",
       "      <td>307420</td>\n",
       "    </tr>\n",
       "  </tbody>\n",
       "</table>\n",
       "</div>"
      ],
      "text/plain": [
       "   ingresos  gastos_comunes  pago_coche  gastos_otros  ahorros  vivienda  \\\n",
       "0      6000            1000           0           600    50000    400000   \n",
       "1      6745             944         123           429    43240    636897   \n",
       "2      6455            1033          98           795    57463    321779   \n",
       "3      7098            1278          15           254    54506    660933   \n",
       "4      6167             863         223           520    41512    348932   \n",
       "\n",
       "  estado_civil  hijos trabajo comprar  gasto  financiar  \n",
       "0            0      2       2       1   1600     350000  \n",
       "1            1      3       6       0   1496     593657  \n",
       "2            2      1       8       1   1926     264316  \n",
       "3            0      0       3       0   1547     606427  \n",
       "4            0      0       3       1   1606     307420  "
      ]
     },
     "execution_count": 48,
     "metadata": {},
     "output_type": "execute_result"
    }
   ],
   "source": [
    "data.head()"
   ]
  },
  {
   "cell_type": "markdown",
   "metadata": {},
   "source": [
    "Realice el análisis de componentes principales con las variables ‘ingresos’, ‘ahorros’, ‘vivienda’,\n",
    "‘gastos’ y ‘financiar’ y utilizando el porcentaje de varianza explicada acumulada, seleccione una\n",
    "cantidad de componentes que expliquen, al menos, el 90% de la variabilidad"
   ]
  },
  {
   "cell_type": "code",
   "execution_count": 11,
   "metadata": {},
   "outputs": [],
   "source": [
    "from sklearn.decomposition import PCA\n",
    "from sklearn.pipeline import make_pipeline\n",
    "from sklearn.preprocessing import StandardScaler"
   ]
  },
  {
   "cell_type": "code",
   "execution_count": 56,
   "metadata": {},
   "outputs": [],
   "source": [
    "data_ejercicio_b = data[['ingresos', 'ahorros', 'vivienda', 'gasto', 'financiar']]"
   ]
  },
  {
   "cell_type": "code",
   "execution_count": 57,
   "metadata": {},
   "outputs": [],
   "source": [
    "pca_pipe = make_pipeline(StandardScaler(), PCA())\n",
    "pca_pipe.fit(data_ejercicio_b)\n",
    "modelo_pca_b = pca_pipe.named_steps['pca']"
   ]
  },
  {
   "cell_type": "code",
   "execution_count": 58,
   "metadata": {},
   "outputs": [
    {
     "data": {
      "text/html": [
       "<div>\n",
       "<style scoped>\n",
       "    .dataframe tbody tr th:only-of-type {\n",
       "        vertical-align: middle;\n",
       "    }\n",
       "\n",
       "    .dataframe tbody tr th {\n",
       "        vertical-align: top;\n",
       "    }\n",
       "\n",
       "    .dataframe thead th {\n",
       "        text-align: right;\n",
       "    }\n",
       "</style>\n",
       "<table border=\"1\" class=\"dataframe\">\n",
       "  <thead>\n",
       "    <tr style=\"text-align: right;\">\n",
       "      <th></th>\n",
       "      <th>ingresos</th>\n",
       "      <th>ahorros</th>\n",
       "      <th>vivienda</th>\n",
       "      <th>gasto</th>\n",
       "      <th>financiar</th>\n",
       "    </tr>\n",
       "  </thead>\n",
       "  <tbody>\n",
       "    <tr>\n",
       "      <th>0</th>\n",
       "      <td>6000</td>\n",
       "      <td>50000</td>\n",
       "      <td>400000</td>\n",
       "      <td>1600</td>\n",
       "      <td>350000</td>\n",
       "    </tr>\n",
       "    <tr>\n",
       "      <th>1</th>\n",
       "      <td>6745</td>\n",
       "      <td>43240</td>\n",
       "      <td>636897</td>\n",
       "      <td>1496</td>\n",
       "      <td>593657</td>\n",
       "    </tr>\n",
       "    <tr>\n",
       "      <th>2</th>\n",
       "      <td>6455</td>\n",
       "      <td>57463</td>\n",
       "      <td>321779</td>\n",
       "      <td>1926</td>\n",
       "      <td>264316</td>\n",
       "    </tr>\n",
       "    <tr>\n",
       "      <th>3</th>\n",
       "      <td>7098</td>\n",
       "      <td>54506</td>\n",
       "      <td>660933</td>\n",
       "      <td>1547</td>\n",
       "      <td>606427</td>\n",
       "    </tr>\n",
       "    <tr>\n",
       "      <th>4</th>\n",
       "      <td>6167</td>\n",
       "      <td>41512</td>\n",
       "      <td>348932</td>\n",
       "      <td>1606</td>\n",
       "      <td>307420</td>\n",
       "    </tr>\n",
       "    <tr>\n",
       "      <th>...</th>\n",
       "      <td>...</td>\n",
       "      <td>...</td>\n",
       "      <td>...</td>\n",
       "      <td>...</td>\n",
       "      <td>...</td>\n",
       "    </tr>\n",
       "    <tr>\n",
       "      <th>197</th>\n",
       "      <td>3831</td>\n",
       "      <td>10723</td>\n",
       "      <td>363120</td>\n",
       "      <td>1530</td>\n",
       "      <td>352397</td>\n",
       "    </tr>\n",
       "    <tr>\n",
       "      <th>198</th>\n",
       "      <td>3961</td>\n",
       "      <td>21880</td>\n",
       "      <td>280421</td>\n",
       "      <td>1775</td>\n",
       "      <td>258541</td>\n",
       "    </tr>\n",
       "    <tr>\n",
       "      <th>199</th>\n",
       "      <td>3184</td>\n",
       "      <td>35565</td>\n",
       "      <td>388025</td>\n",
       "      <td>1915</td>\n",
       "      <td>352460</td>\n",
       "    </tr>\n",
       "    <tr>\n",
       "      <th>200</th>\n",
       "      <td>3334</td>\n",
       "      <td>19985</td>\n",
       "      <td>376892</td>\n",
       "      <td>1888</td>\n",
       "      <td>356907</td>\n",
       "    </tr>\n",
       "    <tr>\n",
       "      <th>201</th>\n",
       "      <td>3988</td>\n",
       "      <td>11980</td>\n",
       "      <td>257580</td>\n",
       "      <td>1644</td>\n",
       "      <td>245600</td>\n",
       "    </tr>\n",
       "  </tbody>\n",
       "</table>\n",
       "<p>202 rows × 5 columns</p>\n",
       "</div>"
      ],
      "text/plain": [
       "     ingresos  ahorros  vivienda  gasto  financiar\n",
       "0        6000    50000    400000   1600     350000\n",
       "1        6745    43240    636897   1496     593657\n",
       "2        6455    57463    321779   1926     264316\n",
       "3        7098    54506    660933   1547     606427\n",
       "4        6167    41512    348932   1606     307420\n",
       "..        ...      ...       ...    ...        ...\n",
       "197      3831    10723    363120   1530     352397\n",
       "198      3961    21880    280421   1775     258541\n",
       "199      3184    35565    388025   1915     352460\n",
       "200      3334    19985    376892   1888     356907\n",
       "201      3988    11980    257580   1644     245600\n",
       "\n",
       "[202 rows x 5 columns]"
      ]
     },
     "execution_count": 58,
     "metadata": {},
     "output_type": "execute_result"
    }
   ],
   "source": [
    "data_ejercicio_b"
   ]
  },
  {
   "cell_type": "code",
   "execution_count": 62,
   "metadata": {},
   "outputs": [
    {
     "data": {
      "text/html": [
       "<div>\n",
       "<style scoped>\n",
       "    .dataframe tbody tr th:only-of-type {\n",
       "        vertical-align: middle;\n",
       "    }\n",
       "\n",
       "    .dataframe tbody tr th {\n",
       "        vertical-align: top;\n",
       "    }\n",
       "\n",
       "    .dataframe thead th {\n",
       "        text-align: right;\n",
       "    }\n",
       "</style>\n",
       "<table border=\"1\" class=\"dataframe\">\n",
       "  <thead>\n",
       "    <tr style=\"text-align: right;\">\n",
       "      <th></th>\n",
       "      <th>ingresos</th>\n",
       "      <th>ahorros</th>\n",
       "      <th>vivienda</th>\n",
       "      <th>gasto</th>\n",
       "      <th>financiar</th>\n",
       "    </tr>\n",
       "  </thead>\n",
       "  <tbody>\n",
       "    <tr>\n",
       "      <th>C1</th>\n",
       "      <td>0.480968</td>\n",
       "      <td>0.454024</td>\n",
       "      <td>0.529774</td>\n",
       "      <td>1.531049e-01</td>\n",
       "      <td>0.508359</td>\n",
       "    </tr>\n",
       "    <tr>\n",
       "      <th>C2</th>\n",
       "      <td>-0.265673</td>\n",
       "      <td>0.068416</td>\n",
       "      <td>0.223026</td>\n",
       "      <td>-9.064812e-01</td>\n",
       "      <td>0.230843</td>\n",
       "    </tr>\n",
       "    <tr>\n",
       "      <th>C3</th>\n",
       "      <td>0.373021</td>\n",
       "      <td>0.653946</td>\n",
       "      <td>-0.361315</td>\n",
       "      <td>-2.708149e-01</td>\n",
       "      <td>-0.478875</td>\n",
       "    </tr>\n",
       "    <tr>\n",
       "      <th>C4</th>\n",
       "      <td>0.747624</td>\n",
       "      <td>-0.594056</td>\n",
       "      <td>-0.081290</td>\n",
       "      <td>-2.854996e-01</td>\n",
       "      <td>-0.006080</td>\n",
       "    </tr>\n",
       "    <tr>\n",
       "      <th>C5</th>\n",
       "      <td>-0.000000</td>\n",
       "      <td>-0.092917</td>\n",
       "      <td>0.729686</td>\n",
       "      <td>5.342948e-16</td>\n",
       "      <td>-0.677440</td>\n",
       "    </tr>\n",
       "  </tbody>\n",
       "</table>\n",
       "</div>"
      ],
      "text/plain": [
       "    ingresos   ahorros  vivienda         gasto  financiar\n",
       "C1  0.480968  0.454024  0.529774  1.531049e-01   0.508359\n",
       "C2 -0.265673  0.068416  0.223026 -9.064812e-01   0.230843\n",
       "C3  0.373021  0.653946 -0.361315 -2.708149e-01  -0.478875\n",
       "C4  0.747624 -0.594056 -0.081290 -2.854996e-01  -0.006080\n",
       "C5 -0.000000 -0.092917  0.729686  5.342948e-16  -0.677440"
      ]
     },
     "execution_count": 62,
     "metadata": {},
     "output_type": "execute_result"
    }
   ],
   "source": [
    "pd.DataFrame(data=modelo_pca_b.components_, columns=data_ejercicio_b.columns, index=['C1', 'C2', 'C3', 'C4', 'C5'])"
   ]
  },
  {
   "cell_type": "code",
   "execution_count": 61,
   "metadata": {},
   "outputs": [],
   "source": [
    "import matplotlib.pyplot as plt\n",
    "import numpy as np\n"
   ]
  },
  {
   "cell_type": "code",
   "execution_count": 63,
   "metadata": {},
   "outputs": [
    {
     "name": "stdout",
     "output_type": "stream",
     "text": [
      "Porcentaje de varianza explicada acumulada\n",
      "1 61.24%\n",
      "2 82.20%\n",
      "3 95.53%\n",
      "4 100.00%\n",
      "5 100.00%\n"
     ]
    },
    {
     "data": {
      "image/png": "[encoded data removed]",
      "text/plain": [
       "<Figure size 600x400 with 1 Axes>"
      ]
     },
     "metadata": {},
     "output_type": "display_data"
    }
   ],
   "source": [
    "por_var_acum = modelo_pca_b.explained_variance_ratio_.cumsum()\n",
    "print('Porcentaje de varianza explicada acumulada')\n",
    "for i, j  in enumerate(por_var_acum, start=1):\n",
    "    print(i, f'{j:.2%}')\n",
    "fig, ax = plt.subplots(nrows=1, ncols=1, figsize=(6,4))\n",
    "ax.plot(np.arange(len(data_ejercicio_b.columns))+1, por_var_acum, marker = '.')\n",
    "for x, y in zip(np.arange(len(data_ejercicio_b.columns))+1, por_var_acum):\n",
    "    label = round(y,1)\n",
    "ax.annotate(label,(x,y),textcoords=\"offset points\",xytext=(0,10),ha ='center')\n",
    "\n",
    "ax.set_ylim(0,1.1)\n",
    "ax.set_xticks(np.arange(modelo_pca_b.n_components_)+1)\n",
    "ax.set_title('porcentaje de varianza explicada acumulada')\n",
    "ax.set_xlabel('componente principal')\n",
    "ax.set_xlabel('porcentaje de varianza acumulada');"
   ]
  },
  {
   "cell_type": "markdown",
   "metadata": {},
   "source": [
    "Según el resultado del código anterior se recomienda usar como máximo 3 variables acumuladas"
   ]
  },
  {
   "cell_type": "code",
   "execution_count": 64,
   "metadata": {},
   "outputs": [],
   "source": [
    "data_ejercicio_c = data[['ingresos', 'ahorros', 'vivienda']]"
   ]
  },
  {
   "cell_type": "code",
   "execution_count": 65,
   "metadata": {},
   "outputs": [
    {
     "data": {
      "text/html": [
       "<div>\n",
       "<style scoped>\n",
       "    .dataframe tbody tr th:only-of-type {\n",
       "        vertical-align: middle;\n",
       "    }\n",
       "\n",
       "    .dataframe tbody tr th {\n",
       "        vertical-align: top;\n",
       "    }\n",
       "\n",
       "    .dataframe thead th {\n",
       "        text-align: right;\n",
       "    }\n",
       "</style>\n",
       "<table border=\"1\" class=\"dataframe\">\n",
       "  <thead>\n",
       "    <tr style=\"text-align: right;\">\n",
       "      <th></th>\n",
       "      <th>ingresos</th>\n",
       "      <th>ahorros</th>\n",
       "      <th>vivienda</th>\n",
       "    </tr>\n",
       "  </thead>\n",
       "  <tbody>\n",
       "    <tr>\n",
       "      <th>0</th>\n",
       "      <td>6000</td>\n",
       "      <td>50000</td>\n",
       "      <td>400000</td>\n",
       "    </tr>\n",
       "    <tr>\n",
       "      <th>1</th>\n",
       "      <td>6745</td>\n",
       "      <td>43240</td>\n",
       "      <td>636897</td>\n",
       "    </tr>\n",
       "    <tr>\n",
       "      <th>2</th>\n",
       "      <td>6455</td>\n",
       "      <td>57463</td>\n",
       "      <td>321779</td>\n",
       "    </tr>\n",
       "    <tr>\n",
       "      <th>3</th>\n",
       "      <td>7098</td>\n",
       "      <td>54506</td>\n",
       "      <td>660933</td>\n",
       "    </tr>\n",
       "    <tr>\n",
       "      <th>4</th>\n",
       "      <td>6167</td>\n",
       "      <td>41512</td>\n",
       "      <td>348932</td>\n",
       "    </tr>\n",
       "    <tr>\n",
       "      <th>...</th>\n",
       "      <td>...</td>\n",
       "      <td>...</td>\n",
       "      <td>...</td>\n",
       "    </tr>\n",
       "    <tr>\n",
       "      <th>197</th>\n",
       "      <td>3831</td>\n",
       "      <td>10723</td>\n",
       "      <td>363120</td>\n",
       "    </tr>\n",
       "    <tr>\n",
       "      <th>198</th>\n",
       "      <td>3961</td>\n",
       "      <td>21880</td>\n",
       "      <td>280421</td>\n",
       "    </tr>\n",
       "    <tr>\n",
       "      <th>199</th>\n",
       "      <td>3184</td>\n",
       "      <td>35565</td>\n",
       "      <td>388025</td>\n",
       "    </tr>\n",
       "    <tr>\n",
       "      <th>200</th>\n",
       "      <td>3334</td>\n",
       "      <td>19985</td>\n",
       "      <td>376892</td>\n",
       "    </tr>\n",
       "    <tr>\n",
       "      <th>201</th>\n",
       "      <td>3988</td>\n",
       "      <td>11980</td>\n",
       "      <td>257580</td>\n",
       "    </tr>\n",
       "  </tbody>\n",
       "</table>\n",
       "<p>202 rows × 3 columns</p>\n",
       "</div>"
      ],
      "text/plain": [
       "     ingresos  ahorros  vivienda\n",
       "0        6000    50000    400000\n",
       "1        6745    43240    636897\n",
       "2        6455    57463    321779\n",
       "3        7098    54506    660933\n",
       "4        6167    41512    348932\n",
       "..        ...      ...       ...\n",
       "197      3831    10723    363120\n",
       "198      3961    21880    280421\n",
       "199      3184    35565    388025\n",
       "200      3334    19985    376892\n",
       "201      3988    11980    257580\n",
       "\n",
       "[202 rows x 3 columns]"
      ]
     },
     "execution_count": 65,
     "metadata": {},
     "output_type": "execute_result"
    }
   ],
   "source": [
    "data_ejercicio_c"
   ]
  },
  {
   "cell_type": "code",
   "execution_count": 67,
   "metadata": {},
   "outputs": [
    {
     "data": {
      "text/html": [
       "<div>\n",
       "<style scoped>\n",
       "    .dataframe tbody tr th:only-of-type {\n",
       "        vertical-align: middle;\n",
       "    }\n",
       "\n",
       "    .dataframe tbody tr th {\n",
       "        vertical-align: top;\n",
       "    }\n",
       "\n",
       "    .dataframe thead th {\n",
       "        text-align: right;\n",
       "    }\n",
       "</style>\n",
       "<table border=\"1\" class=\"dataframe\">\n",
       "  <thead>\n",
       "    <tr style=\"text-align: right;\">\n",
       "      <th></th>\n",
       "      <th>ingresos</th>\n",
       "      <th>ahorros</th>\n",
       "      <th>vivienda</th>\n",
       "    </tr>\n",
       "  </thead>\n",
       "  <tbody>\n",
       "    <tr>\n",
       "      <th>C1</th>\n",
       "      <td>0.588964</td>\n",
       "      <td>0.586498</td>\n",
       "      <td>0.556004</td>\n",
       "    </tr>\n",
       "    <tr>\n",
       "      <th>C2</th>\n",
       "      <td>0.365727</td>\n",
       "      <td>0.420081</td>\n",
       "      <td>-0.830527</td>\n",
       "    </tr>\n",
       "    <tr>\n",
       "      <th>C3</th>\n",
       "      <td>-0.720670</td>\n",
       "      <td>0.692497</td>\n",
       "      <td>0.032915</td>\n",
       "    </tr>\n",
       "  </tbody>\n",
       "</table>\n",
       "</div>"
      ],
      "text/plain": [
       "    ingresos   ahorros  vivienda\n",
       "C1  0.588964  0.586498  0.556004\n",
       "C2  0.365727  0.420081 -0.830527\n",
       "C3 -0.720670  0.692497  0.032915"
      ]
     },
     "execution_count": 67,
     "metadata": {},
     "output_type": "execute_result"
    }
   ],
   "source": [
    "pca_pipe_c = make_pipeline(StandardScaler(), PCA())\n",
    "pca_pipe_c.fit(data_ejercicio_c)\n",
    "modelo_pca_c = pca_pipe_c.named_steps['pca']\n",
    "\n",
    "pd.DataFrame(data=modelo_pca_c.components_, columns=data_ejercicio_c.columns, index=['C1', 'C2', 'C3'])"
   ]
  },
  {
   "cell_type": "code",
   "execution_count": 69,
   "metadata": {},
   "outputs": [
    {
     "name": "stdout",
     "output_type": "stream",
     "text": [
      "Porcentaje de varianza explicada acumulada\n",
      "1 76.34%\n",
      "2 90.44%\n",
      "3 100.00%\n"
     ]
    },
    {
     "data": {
      "image/png": "[encoded data removed]",
      "text/plain": [
       "<Figure size 600x400 with 1 Axes>"
      ]
     },
     "metadata": {},
     "output_type": "display_data"
    }
   ],
   "source": [
    "por_var_acum = modelo_pca_c.explained_variance_ratio_.cumsum()\n",
    "print('Porcentaje de varianza explicada acumulada')\n",
    "for i, j  in enumerate(por_var_acum, start=1):\n",
    "    print(i, f'{j:.2%}')\n",
    "fig, ax = plt.subplots(nrows=1, ncols=1, figsize=(6,4))\n",
    "ax.plot(np.arange(len(data_ejercicio_c.columns))+1, por_var_acum, marker = '.')\n",
    "for x, y in zip(np.arange(len(data_ejercicio_c.columns))+1, por_var_acum):\n",
    "    label = round(y,1)\n",
    "ax.annotate(label,(x,y),textcoords=\"offset points\",xytext=(0,10),ha ='center')\n",
    "\n",
    "ax.set_ylim(0,1.1)\n",
    "ax.set_xticks(np.arange(modelo_pca_c.n_components_)+1)\n",
    "ax.set_title('porcentaje de varianza explicada acumulada')\n",
    "ax.set_xlabel('componente principal')\n",
    "ax.set_xlabel('porcentaje de varianza acumulada');"
   ]
  },
  {
   "cell_type": "code",
   "execution_count": null,
   "metadata": {},
   "outputs": [],
   "source": []
  }
 ],
 "metadata": {
  "kernelspec": {
   "display_name": "Python 3.10.12 64-bit",
   "language": "python",
   "name": "python3"
  },
  "language_info": {
   "codemirror_mode": {
    "name": "ipython",
    "version": 3
   },
   "file_extension": ".py",
   "mimetype": "text/x-python",
   "name": "python",
   "nbconvert_exporter": "python",
   "pygments_lexer": "ipython3",
   "version": "3.10.12"
  },
  "orig_nbformat": 4,
  "vscode": {
   "interpreter": {
    "hash": "916dbcbb3f70747c44a77c7bcd40155683ae19c65e1c03b4aa3499c5328201f1"
   }
  }
 },
 "nbformat": 4,
 "nbformat_minor": 2
}
